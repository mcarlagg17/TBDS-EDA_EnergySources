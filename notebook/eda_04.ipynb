{
 "cells": [
  {
   "cell_type": "markdown",
   "metadata": {},
   "source": [
    "# <a id='0'>ESPAÑA y sus FUENTES de ENERGÍA</h1>\n",
    "![FuentesEnergia](\n",
    "img_energia.webp)"
   ]
  },
  {
   "cell_type": "markdown",
   "metadata": {},
   "source": [
    "## *ÍNDICE:* \n",
    "---\n",
    "- [ 1. ANÁLISIS EXPLORATORIO DE DATOS (EDA):](#1)\n",
    "    - [1.1. Hipótesis](#11)\n",
    "    - [1.2. Acondicionamiento bases de datos](#12)\n",
    "    - [1.3. Análisis visual](#13)\n",
    "    - [1.4. Análisis estadístico](#14)\n",
    "- [2. CONCLUSIONES](#2)\n",
    "---"
   ]
  },
  {
   "cell_type": "markdown",
   "metadata": {},
   "source": [
    "### *Contacto:*\n",
    "___\n",
    "* Email: ***carla.glezz@gmail.com***\n",
    "* Linkedin: ***https://www.linkedin.com/in/mariacarlagonzalezgonzalez/***\n",
    "---"
   ]
  },
  {
   "cell_type": "markdown",
   "metadata": {},
   "source": [
    " \n",
    "# **1. Análisis Exploratio de Datos (EDA)**<a id='1'></a>"
   ]
  },
  {
   "cell_type": "markdown",
   "metadata": {},
   "source": [
    "##  **1.1. Hipótesis**<a id='11'></a>"
   ]
  },
  {
   "cell_type": "markdown",
   "metadata": {},
   "source": [
    "### **¿Energía a invertir en España?** 🤔\n",
    "\n",
    "1. **¿Progresión de las distintas fuentes de energía en España en los últimos años?** \n",
    "    * Hipótesis: previsiblemente hay un aumento en renovables\n",
    "    * ¿Energía o energías que más generan? \n",
    "\n",
    "\n",
    "2. **¿Autoabastecimiento?**\n",
    "    * ¿Coinciden la energía que consume España con la que genera?\n",
    "        + Excedente podría indicar la exportación y un deficit la importación. \n",
    "        + Otra posibilidad es falta de datos en alguno de los resultados. \n",
    "        (Se está trabajando en el almacenaje de energía pero de momento no es una tecnología en uso)\n",
    "    * En función de la demanda/consumo anual de energía en España, ¿cuánto faltaría para autoabastecerse?    \n",
    "\n",
    "\n",
    "3. **¿Eficiencia vs efectos adversos?** (elegiendo 2 de las energías con mayor probabilidad de ser nuestra elección final)\n",
    "    * ¿Se puede encontrar un equilibrio? ¿Cómo nos afecta?\n",
    "\n",
    "\n",
    "4. **¿Influencia del clima?**\n",
    "    * Es previsible que sea afirmativa la respuesta, sobretodo en renovables.\n",
    "        + Los datos son una muestra, es necesario verificar que es suficiente y representativa de la población. \n",
    "    * ¿Se considera significativa esta influencia? \n",
    "        + Es posible que halla otros factores más significativos, como pueden ser la potencia instalada, la tecnología empleada,etc.\n",
    "\n",
    "\n",
    "5. **Análisis económico** *(Punto a estudiar más adelante)*\n",
    "    * ¿Cuales son las fuentes más baratas?\n",
    "    * ¿Cuales son las más rentables?\n",
    "    * ¿Las que más generan son las más rentables económicamente?\n",
    "    * ¿Se puede hallar, si no lo hubiera, entre eficiencia energética y rentabilidad económica?\n",
    "\n",
    "\n",
    "    \n",
    "\n",
    "\n"
   ]
  },
  {
   "cell_type": "markdown",
   "metadata": {},
   "source": [
    "##  **1.2. Acondicionamiento bases de datos**<a id='12'></a>"
   ]
  },
  {
   "cell_type": "code",
   "execution_count": null,
   "metadata": {},
   "outputs": [
    {
     "ename": "",
     "evalue": "",
     "output_type": "error",
     "traceback": [
      "\u001b[1;31mJupyter cannot be started. Error attempting to locate jupyter: Running cells with 'Python 3.9.5 ('the_bridge_ds')' requires notebook package.\n",
      "Run the following command to install 'jupyter and notebook' into the Python environment. \n",
      "Command: 'python -m pip install jupyter notebook -U\n",
      "or\n",
      "conda install jupyter notebook -U'\n",
      "Click <a href='https://aka.ms/installJupyterForVSCode'>here</a> for more info."
     ]
    }
   ],
   "source": [
    "# Librery\n",
    "from utils.utilsEDA import *"
   ]
  },
  {
   "cell_type": "code",
   "execution_count": null,
   "metadata": {},
   "outputs": [
    {
     "ename": "",
     "evalue": "",
     "output_type": "error",
     "traceback": [
      "\u001b[1;31mJupyter cannot be started. Error attempting to locate jupyter: Running cells with 'Python 3.9.5 ('the_bridge_ds')' requires notebook package.\n",
      "Run the following command to install 'jupyter and notebook' into the Python environment. \n",
      "Command: 'python -m pip install jupyter notebook -U\n",
      "or\n",
      "conda install jupyter notebook -U'\n",
      "Click <a href='https://aka.ms/installJupyterForVSCode'>here</a> for more info."
     ]
    }
   ],
   "source": [
    "# Read all csv \n",
    "\n",
    "# NOTA IMPORTANTE: Copiar path hasta la carpeta scr (único cambio para funcionamiento)\n",
    "preroot='/Users/mcgg/Documents/TheBridge_DataScience_py_local/02_DATA_ANALISIS/EDA_MC/EDA-energia/energy-data/src'\n",
    "\n",
    "df_spn=pd.read_csv(preroot+'/data/spn_energy_data.csv')\n",
    "df_wheather_spn=pd.read_csv(preroot+'/data/spn_weather_features.csv')"
   ]
  },
  {
   "cell_type": "markdown",
   "metadata": {},
   "source": [
    "### *Extracción inicial info. de los CSVs*"
   ]
  },
  {
   "cell_type": "code",
   "execution_count": null,
   "metadata": {},
   "outputs": [
    {
     "ename": "",
     "evalue": "",
     "output_type": "error",
     "traceback": [
      "\u001b[1;31mJupyter cannot be started. Error attempting to locate jupyter: Running cells with 'Python 3.9.5 ('the_bridge_ds')' requires notebook package.\n",
      "Run the following command to install 'jupyter and notebook' into the Python environment. \n",
      "Command: 'python -m pip install jupyter notebook -U\n",
      "or\n",
      "conda install jupyter notebook -U'\n",
      "Click <a href='https://aka.ms/installJupyterForVSCode'>here</a> for more info."
     ]
    }
   ],
   "source": [
    "print('* Datos energía España: *')\n",
    "df_spn.info()"
   ]
  },
  {
   "cell_type": "code",
   "execution_count": null,
   "metadata": {},
   "outputs": [
    {
     "ename": "",
     "evalue": "",
     "output_type": "error",
     "traceback": [
      "\u001b[1;31mJupyter cannot be started. Error attempting to locate jupyter: Running cells with 'Python 3.9.5 ('the_bridge_ds')' requires notebook package.\n",
      "Run the following command to install 'jupyter and notebook' into the Python environment. \n",
      "Command: 'python -m pip install jupyter notebook -U\n",
      "or\n",
      "conda install jupyter notebook -U'\n",
      "Click <a href='https://aka.ms/installJupyterForVSCode'>here</a> for more info."
     ]
    }
   ],
   "source": [
    "print('* Datos clima España: *')\n",
    "df_wheather_spn.info()"
   ]
  },
  {
   "cell_type": "markdown",
   "metadata": {},
   "source": [
    "### *Tratamiento bases de datos:*\n"
   ]
  },
  {
   "cell_type": "markdown",
   "metadata": {},
   "source": [
    "#### csv generación energía España\n",
    "\n",
    "```df_spn```: DataFrame que contiene los datos de energía en españa recogidos desde 1 enero 2015 hasta 31 diciembre 2018"
   ]
  },
  {
   "cell_type": "markdown",
   "metadata": {},
   "source": [
    "|column\t|description\t|\n",
    "|-------|---------------|\n",
    "|time||\n",
    "|generation biomass||\n",
    "|generation fossil brown coal/lignite||\n",
    "|generation fossil bcoal-derived gas||\n",
    "|generation fossil gas||\n",
    "|generation fossil hard coal||\n",
    "|generation fossil oil||\n",
    "|generation fossil oil shale||\n",
    "|generation fossil peat||\n",
    "|generation geothermal||\n",
    "|generation hydro pumped storage aggregated||\n",
    "|generation hydro pumped storage consumption||\n",
    "|generation hydro run-of-river and poundage||\n",
    "|generation hydro water reservoir||\n",
    "|generation marine||\n",
    "|generation nuclear||\n",
    "|generation other||\n",
    "|generation other renewable||\n",
    "|generation solar||\n",
    "|generation waste||\n",
    "|generation wind offshore||\n",
    "|generation wind onshore||\n",
    "|forecast solar day ahead||\n",
    "|forecast wind offshore eday ahead||\n",
    "|forecast wind onshore day ahead||\n",
    "|total load forecast||\n",
    "|total load actual||\n",
    "|price day ahead||\n",
    "|price actual||\n"
   ]
  },
  {
   "cell_type": "code",
   "execution_count": null,
   "metadata": {},
   "outputs": [
    {
     "ename": "",
     "evalue": "",
     "output_type": "error",
     "traceback": [
      "\u001b[1;31mJupyter cannot be started. Error attempting to locate jupyter: Running cells with 'Python 3.9.5 ('the_bridge_ds')' requires notebook package.\n",
      "Run the following command to install 'jupyter and notebook' into the Python environment. \n",
      "Command: 'python -m pip install jupyter notebook -U\n",
      "or\n",
      "conda install jupyter notebook -U'\n",
      "Click <a href='https://aka.ms/installJupyterForVSCode'>here</a> for more info."
     ]
    }
   ],
   "source": [
    "print('Número de columnas: ',len(df_spn.columns))\n",
    "df_spn.columns"
   ]
  },
  {
   "cell_type": "code",
   "execution_count": null,
   "metadata": {},
   "outputs": [
    {
     "ename": "",
     "evalue": "",
     "output_type": "error",
     "traceback": [
      "\u001b[1;31mJupyter cannot be started. Error attempting to locate jupyter: Running cells with 'Python 3.9.5 ('the_bridge_ds')' requires notebook package.\n",
      "Run the following command to install 'jupyter and notebook' into the Python environment. \n",
      "Command: 'python -m pip install jupyter notebook -U\n",
      "or\n",
      "conda install jupyter notebook -U'\n",
      "Click <a href='https://aka.ms/installJupyterForVSCode'>here</a> for more info."
     ]
    }
   ],
   "source": [
    "df_spn.tail()"
   ]
  },
  {
   "cell_type": "code",
   "execution_count": null,
   "metadata": {},
   "outputs": [
    {
     "ename": "",
     "evalue": "",
     "output_type": "error",
     "traceback": [
      "\u001b[1;31mJupyter cannot be started. Error attempting to locate jupyter: Running cells with 'Python 3.9.5 ('the_bridge_ds')' requires notebook package.\n",
      "Run the following command to install 'jupyter and notebook' into the Python environment. \n",
      "Command: 'python -m pip install jupyter notebook -U\n",
      "or\n",
      "conda install jupyter notebook -U'\n",
      "Click <a href='https://aka.ms/installJupyterForVSCode'>here</a> for more info."
     ]
    }
   ],
   "source": [
    "# Se reemplaza 'time' quitándole el intervalo\n",
    "df_spn['time']=df_spn['time'].replace({'\\+01:00|\\+02:00|\\+03:00':''},regex=True)\n",
    "\n",
    "# Se transforma en formato datetime la columna 'time' \n",
    "df_spn['time']=pd.to_datetime(df_spn['time'], infer_datetime_format=True)\n",
    "df_spn.columns"
   ]
  },
  {
   "cell_type": "code",
   "execution_count": null,
   "metadata": {},
   "outputs": [
    {
     "ename": "",
     "evalue": "",
     "output_type": "error",
     "traceback": [
      "\u001b[1;31mJupyter cannot be started. Error attempting to locate jupyter: Running cells with 'Python 3.9.5 ('the_bridge_ds')' requires notebook package.\n",
      "Run the following command to install 'jupyter and notebook' into the Python environment. \n",
      "Command: 'python -m pip install jupyter notebook -U\n",
      "or\n",
      "conda install jupyter notebook -U'\n",
      "Click <a href='https://aka.ms/installJupyterForVSCode'>here</a> for more info."
     ]
    }
   ],
   "source": [
    "# Se eliminan las filas y columnas que contengan NaN en todos sus elementos \n",
    "comp_colna_filna(df_spn,['time'])\n",
    "df_spn=del_colna_filna(df_spn,['time'])\n",
    "len(df_spn.columns)"
   ]
  },
  {
   "cell_type": "code",
   "execution_count": null,
   "metadata": {},
   "outputs": [
    {
     "ename": "",
     "evalue": "",
     "output_type": "error",
     "traceback": [
      "\u001b[1;31mJupyter cannot be started. Error attempting to locate jupyter: Running cells with 'Python 3.9.5 ('the_bridge_ds')' requires notebook package.\n",
      "Run the following command to install 'jupyter and notebook' into the Python environment. \n",
      "Command: 'python -m pip install jupyter notebook -U\n",
      "or\n",
      "conda install jupyter notebook -U'\n",
      "Click <a href='https://aka.ms/installJupyterForVSCode'>here</a> for more info."
     ]
    }
   ],
   "source": [
    "# Se comprueba los NaN restantes de cada fila \n",
    "df_spn.isna().sum()"
   ]
  },
  {
   "cell_type": "code",
   "execution_count": null,
   "metadata": {},
   "outputs": [
    {
     "ename": "",
     "evalue": "",
     "output_type": "error",
     "traceback": [
      "\u001b[1;31mJupyter cannot be started. Error attempting to locate jupyter: Running cells with 'Python 3.9.5 ('the_bridge_ds')' requires notebook package.\n",
      "Run the following command to install 'jupyter and notebook' into the Python environment. \n",
      "Command: 'python -m pip install jupyter notebook -U\n",
      "or\n",
      "conda install jupyter notebook -U'\n",
      "Click <a href='https://aka.ms/installJupyterForVSCode'>here</a> for more info."
     ]
    }
   ],
   "source": [
    "# Se van rellenando columnas hacia delante, es decir, cogiendo el valor anterior \n",
    "df_spn.fillna(method='ffill',inplace=True) \n",
    "# Se obtiene así un dataset libre de NaN\n",
    "df_spn.isna().sum()"
   ]
  },
  {
   "cell_type": "code",
   "execution_count": null,
   "metadata": {},
   "outputs": [
    {
     "ename": "",
     "evalue": "",
     "output_type": "error",
     "traceback": [
      "\u001b[1;31mJupyter cannot be started. Error attempting to locate jupyter: Running cells with 'Python 3.9.5 ('the_bridge_ds')' requires notebook package.\n",
      "Run the following command to install 'jupyter and notebook' into the Python environment. \n",
      "Command: 'python -m pip install jupyter notebook -U\n",
      "or\n",
      "conda install jupyter notebook -U'\n",
      "Click <a href='https://aka.ms/installJupyterForVSCode'>here</a> for more info."
     ]
    }
   ],
   "source": [
    "# Se eligen las columnas con las que se va a trabajar\n",
    "df_spn=df_spn.loc[:,df_spn.columns.str.startswith('generation')+df_spn.columns.str.startswith('time')]\n",
    "# Se eliminan las columnas que todos sus datos sean 0, dado que indica el no registro de esa variable \n",
    "[df_spn.drop(columns=col,inplace=True) for col in df_spn.columns if (df_spn[col]==0).sum()==len(df_spn)]\n",
    "df_spn.head()"
   ]
  },
  {
   "cell_type": "markdown",
   "metadata": {},
   "source": [
    "---\n",
    "*Agrupaciones*: \n",
    "\n",
    "---"
   ]
  },
  {
   "cell_type": "code",
   "execution_count": null,
   "metadata": {},
   "outputs": [
    {
     "ename": "",
     "evalue": "",
     "output_type": "error",
     "traceback": [
      "\u001b[1;31mJupyter cannot be started. Error attempting to locate jupyter: Running cells with 'Python 3.9.5 ('the_bridge_ds')' requires notebook package.\n",
      "Run the following command to install 'jupyter and notebook' into the Python environment. \n",
      "Command: 'python -m pip install jupyter notebook -U\n",
      "or\n",
      "conda install jupyter notebook -U'\n",
      "Click <a href='https://aka.ms/installJupyterForVSCode'>here</a> for more info."
     ]
    }
   ],
   "source": [
    "#df_spn_day=df_spn.copy()\n",
    "#df_spn_day=df_spn_day.groupby(df_spn_day['time'].dt.date).mean()\n",
    "#df_spn_day.groupby(df_spn_day['time'].dt.year).mean()\n",
    "df_spn_day = pd.read_csv(preroot+'/data/spn_energy_data.csv', index_col=0, parse_dates=True)\n",
    "df_spn_day.index"
   ]
  },
  {
   "cell_type": "code",
   "execution_count": null,
   "metadata": {},
   "outputs": [
    {
     "ename": "",
     "evalue": "",
     "output_type": "error",
     "traceback": [
      "\u001b[1;31mJupyter cannot be started. Error attempting to locate jupyter: Running cells with 'Python 3.9.5 ('the_bridge_ds')' requires notebook package.\n",
      "Run the following command to install 'jupyter and notebook' into the Python environment. \n",
      "Command: 'python -m pip install jupyter notebook -U\n",
      "or\n",
      "conda install jupyter notebook -U'\n",
      "Click <a href='https://aka.ms/installJupyterForVSCode'>here</a> for more info."
     ]
    }
   ],
   "source": [
    "df_spn_day.loc['2015']"
   ]
  },
  {
   "cell_type": "code",
   "execution_count": null,
   "metadata": {},
   "outputs": [
    {
     "ename": "",
     "evalue": "",
     "output_type": "error",
     "traceback": [
      "\u001b[1;31mJupyter cannot be started. Error attempting to locate jupyter: Running cells with 'Python 3.9.5 ('the_bridge_ds')' requires notebook package.\n",
      "Run the following command to install 'jupyter and notebook' into the Python environment. \n",
      "Command: 'python -m pip install jupyter notebook -U\n",
      "or\n",
      "conda install jupyter notebook -U'\n",
      "Click <a href='https://aka.ms/installJupyterForVSCode'>here</a> for more info."
     ]
    }
   ],
   "source": [
    "df_spn_day=df_spn.copy()\n",
    "#df_spn_day['day']=df_spn_day['time'].replace({'| \\d+\\d+:\\d+\\d+:\\d+\\d+|':''},regex=True)\n",
    "\n",
    "df_spn_year=df_spn_day.copy()\n",
    "\n",
    "# Se crea una columna tipo datatime llamada 'day_dt' equivale al str de 'time' \n",
    "#df_spn_year['day_dt']=transf_dt(df_spn_year,'day',change='%Y-%m-%d')\n",
    "\n",
    "df_spn_month=df_spn_year.groupby(df_spn_year['day_dt'].dt.month).mean()\n",
    "df_spn_year=df_spn_year.groupby(df_spn_year['day_dt'].dt.year).mean()\n",
    "\n",
    "df_spn_day_2015=df_spn_day.loc[df_spn_day['day'].str.startswith('2015'),:]\n",
    "df_spn_day_2016=df_spn_day.loc[df_spn_day['day'].str.startswith('2016'),:]\n",
    "df_spn_day_2017=df_spn_day.loc[df_spn_day['day'].str.startswith('2017'),:]\n",
    "df_spn_day_2018=df_spn_day.loc[df_spn_day['day'].str.startswith('2018'),:]\n",
    "\n",
    "# Se agrupa por fecha: se realiza la media de todas las horas del día.\n",
    "df_spn_day=df_spn_day.groupby('day').mean()\n"
   ]
  },
  {
   "cell_type": "code",
   "execution_count": null,
   "metadata": {},
   "outputs": [
    {
     "ename": "",
     "evalue": "",
     "output_type": "error",
     "traceback": [
      "\u001b[1;31mJupyter cannot be started. Error attempting to locate jupyter: Running cells with 'Python 3.9.5 ('the_bridge_ds')' requires notebook package.\n",
      "Run the following command to install 'jupyter and notebook' into the Python environment. \n",
      "Command: 'python -m pip install jupyter notebook -U\n",
      "or\n",
      "conda install jupyter notebook -U'\n",
      "Click <a href='https://aka.ms/installJupyterForVSCode'>here</a> for more info."
     ]
    }
   ],
   "source": [
    "df_spn_year"
   ]
  },
  {
   "cell_type": "code",
   "execution_count": null,
   "metadata": {},
   "outputs": [
    {
     "ename": "",
     "evalue": "",
     "output_type": "error",
     "traceback": [
      "\u001b[1;31mJupyter cannot be started. Error attempting to locate jupyter: Running cells with 'Python 3.9.5 ('the_bridge_ds')' requires notebook package.\n",
      "Run the following command to install 'jupyter and notebook' into the Python environment. \n",
      "Command: 'python -m pip install jupyter notebook -U\n",
      "or\n",
      "conda install jupyter notebook -U'\n",
      "Click <a href='https://aka.ms/installJupyterForVSCode'>here</a> for more info."
     ]
    }
   ],
   "source": []
  },
  {
   "cell_type": "code",
   "execution_count": null,
   "metadata": {},
   "outputs": [
    {
     "ename": "",
     "evalue": "",
     "output_type": "error",
     "traceback": [
      "\u001b[1;31mJupyter cannot be started. Error attempting to locate jupyter: Running cells with 'Python 3.9.5 ('the_bridge_ds')' requires notebook package.\n",
      "Run the following command to install 'jupyter and notebook' into the Python environment. \n",
      "Command: 'python -m pip install jupyter notebook -U\n",
      "or\n",
      "conda install jupyter notebook -U'\n",
      "Click <a href='https://aka.ms/installJupyterForVSCode'>here</a> for more info."
     ]
    }
   ],
   "source": [
    "df_spn_day_i=[df_spn_day_2015,df_spn_day_2016,df_spn_day_2017,df_spn_day_2018]\n",
    "\n",
    "for i in df_spn_day_i:\n",
    "    i['month_dt']=transf_dt(i,'day',change='%Y-%m-%d')\n",
    "\n",
    "df_spn_month_2015=df_spn_day_2015.groupby(df_spn_day_2015['month_dt'].dt.month).mean()\n",
    "df_spn_month_2016=df_spn_day_2016.groupby(df_spn_day_2016['month_dt'].dt.month).mean()\n",
    "df_spn_month_2017=df_spn_day_2017.groupby(df_spn_day_2017['month_dt'].dt.month).mean()\n",
    "df_spn_month_2018=df_spn_day_2018.groupby(df_spn_day_2018['month_dt'].dt.month).mean()\n"
   ]
  },
  {
   "cell_type": "code",
   "execution_count": null,
   "metadata": {},
   "outputs": [
    {
     "ename": "",
     "evalue": "",
     "output_type": "error",
     "traceback": [
      "\u001b[1;31mJupyter cannot be started. Error attempting to locate jupyter: Running cells with 'Python 3.9.5 ('the_bridge_ds')' requires notebook package.\n",
      "Run the following command to install 'jupyter and notebook' into the Python environment. \n",
      "Command: 'python -m pip install jupyter notebook -U\n",
      "or\n",
      "conda install jupyter notebook -U'\n",
      "Click <a href='https://aka.ms/installJupyterForVSCode'>here</a> for more info."
     ]
    }
   ],
   "source": [
    "df_spn_day.columns"
   ]
  },
  {
   "cell_type": "code",
   "execution_count": null,
   "metadata": {},
   "outputs": [
    {
     "ename": "",
     "evalue": "",
     "output_type": "error",
     "traceback": [
      "\u001b[1;31mJupyter cannot be started. Error attempting to locate jupyter: Running cells with 'Python 3.9.5 ('the_bridge_ds')' requires notebook package.\n",
      "Run the following command to install 'jupyter and notebook' into the Python environment. \n",
      "Command: 'python -m pip install jupyter notebook -U\n",
      "or\n",
      "conda install jupyter notebook -U'\n",
      "Click <a href='https://aka.ms/installJupyterForVSCode'>here</a> for more info."
     ]
    }
   ],
   "source": [
    "# División entre renovables y no renovables:\n",
    "rnw=['generation biomass', 'generation hydro pumped storage consumption',\n",
    "       'generation hydro run-of-river and poundage',\n",
    "       'generation hydro water reservoir',\n",
    "       'generation other renewable', 'generation solar',\n",
    "       'generation wind onshore']\n",
    "       \n",
    "nrnw=['generation fossil brown coal/lignite',\n",
    "       'generation fossil gas', 'generation fossil hard coal',\n",
    "       'generation fossil oil','generation nuclear',\n",
    "       'generation other','generation waste']"
   ]
  },
  {
   "cell_type": "code",
   "execution_count": null,
   "metadata": {},
   "outputs": [
    {
     "ename": "",
     "evalue": "",
     "output_type": "error",
     "traceback": [
      "\u001b[1;31mJupyter cannot be started. Error attempting to locate jupyter: Running cells with 'Python 3.9.5 ('the_bridge_ds')' requires notebook package.\n",
      "Run the following command to install 'jupyter and notebook' into the Python environment. \n",
      "Command: 'python -m pip install jupyter notebook -U\n",
      "or\n",
      "conda install jupyter notebook -U'\n",
      "Click <a href='https://aka.ms/installJupyterForVSCode'>here</a> for more info."
     ]
    }
   ],
   "source": [
    "df_spn_day_rnw=df_spn_day[rnw]\n",
    "df_spn_day_nrnw=df_spn_day[nrnw]\n",
    "df_spn_month_rnw=df_spn_month[rnw]\n",
    "df_spn_month_nrnw=df_spn_month[nrnw]\n",
    "df_spn_year_rnw=df_spn_year[rnw]\n",
    "df_spn_year_nrnw=df_spn_year[nrnw]\n",
    "\n",
    "df_spn_day_2015_rnw=df_spn_day_2015[rnw]\n",
    "df_spn_day_2015_nrnw=df_spn_day_2015[nrnw]\n",
    "df_spn_day_2016_rnw=df_spn_day_2016[rnw]\n",
    "df_spn_day_2016_nrnw=df_spn_day_2016[nrnw]\n",
    "df_spn_day_2017_rnw=df_spn_day_2017[rnw]\n",
    "df_spn_day_2017_nrnw=df_spn_day_2017[nrnw]\n",
    "df_spn_day_2018_rnw=df_spn_day_2018[rnw]\n",
    "df_spn_day_2018_nrnw=df_spn_day_2018[nrnw]\n"
   ]
  },
  {
   "cell_type": "markdown",
   "metadata": {},
   "source": [
    "#### csv clima España\n",
    "\n",
    "```df_wheather_spn```: DataFrame que contiene los datos del clima en españa recogidos desde 1 enero 2015 hasta 31 diciembre 2018"
   ]
  },
  {
   "cell_type": "markdown",
   "metadata": {},
   "source": [
    "|column\t|description\t|\n",
    "|-------|---------------|\n",
    "|dt_iso||\n",
    "|city_name||\n",
    "|temp||\n",
    "|temp_min||\n",
    "|temp_max||\n",
    "|pressure||\n",
    "|humidity||\n",
    "|wind_speed||\n",
    "|wind_deg||\n",
    "|rain_1h||\n",
    "|rain_3h||\n",
    "|snow_3h||\n",
    "|clouds_all||\n",
    "|weather_id||\n",
    "|weather_main||\n",
    "|weather_description||\n",
    "|weather_icon||\n"
   ]
  },
  {
   "cell_type": "code",
   "execution_count": null,
   "metadata": {},
   "outputs": [
    {
     "ename": "",
     "evalue": "",
     "output_type": "error",
     "traceback": [
      "\u001b[1;31mJupyter cannot be started. Error attempting to locate jupyter: Running cells with 'Python 3.9.5 ('the_bridge_ds')' requires notebook package.\n",
      "Run the following command to install 'jupyter and notebook' into the Python environment. \n",
      "Command: 'python -m pip install jupyter notebook -U\n",
      "or\n",
      "conda install jupyter notebook -U'\n",
      "Click <a href='https://aka.ms/installJupyterForVSCode'>here</a> for more info."
     ]
    }
   ],
   "source": [
    "df_wheather_spn.city_name.unique()"
   ]
  },
  {
   "cell_type": "code",
   "execution_count": null,
   "metadata": {},
   "outputs": [
    {
     "ename": "",
     "evalue": "",
     "output_type": "error",
     "traceback": [
      "\u001b[1;31mJupyter cannot be started. Error attempting to locate jupyter: Running cells with 'Python 3.9.5 ('the_bridge_ds')' requires notebook package.\n",
      "Run the following command to install 'jupyter and notebook' into the Python environment. \n",
      "Command: 'python -m pip install jupyter notebook -U\n",
      "or\n",
      "conda install jupyter notebook -U'\n",
      "Click <a href='https://aka.ms/installJupyterForVSCode'>here</a> for more info."
     ]
    }
   ],
   "source": [
    "df_wheather_spn.columns"
   ]
  },
  {
   "cell_type": "code",
   "execution_count": null,
   "metadata": {},
   "outputs": [
    {
     "ename": "",
     "evalue": "",
     "output_type": "error",
     "traceback": [
      "\u001b[1;31mJupyter cannot be started. Error attempting to locate jupyter: Running cells with 'Python 3.9.5 ('the_bridge_ds')' requires notebook package.\n",
      "Run the following command to install 'jupyter and notebook' into the Python environment. \n",
      "Command: 'python -m pip install jupyter notebook -U\n",
      "or\n",
      "conda install jupyter notebook -U'\n",
      "Click <a href='https://aka.ms/installJupyterForVSCode'>here</a> for more info."
     ]
    }
   ],
   "source": [
    "\n",
    "[df_wheather_spn[col].unique() for col in ['clouds_all', 'weather_id', 'weather_main', 'weather_description',\n",
    "       'weather_icon']]"
   ]
  },
  {
   "cell_type": "code",
   "execution_count": null,
   "metadata": {},
   "outputs": [
    {
     "ename": "",
     "evalue": "",
     "output_type": "error",
     "traceback": [
      "\u001b[1;31mJupyter cannot be started. Error attempting to locate jupyter: Running cells with 'Python 3.9.5 ('the_bridge_ds')' requires notebook package.\n",
      "Run the following command to install 'jupyter and notebook' into the Python environment. \n",
      "Command: 'python -m pip install jupyter notebook -U\n",
      "or\n",
      "conda install jupyter notebook -U'\n",
      "Click <a href='https://aka.ms/installJupyterForVSCode'>here</a> for more info."
     ]
    }
   ],
   "source": [
    "df_wheather_spn.isna().sum()"
   ]
  },
  {
   "cell_type": "markdown",
   "metadata": {},
   "source": [
    "---\n",
    "Agrupaciones:\n",
    "\n",
    "---"
   ]
  },
  {
   "cell_type": "markdown",
   "metadata": {},
   "source": [
    "##  **1.3. Análisis visual**<a id='13'></a>"
   ]
  },
  {
   "cell_type": "markdown",
   "metadata": {},
   "source": [
    "### Visualizaciones, primeros análisis."
   ]
  },
  {
   "cell_type": "code",
   "execution_count": null,
   "metadata": {},
   "outputs": [
    {
     "ename": "",
     "evalue": "",
     "output_type": "error",
     "traceback": [
      "\u001b[1;31mJupyter cannot be started. Error attempting to locate jupyter: Running cells with 'Python 3.9.5 ('the_bridge_ds')' requires notebook package.\n",
      "Run the following command to install 'jupyter and notebook' into the Python environment. \n",
      "Command: 'python -m pip install jupyter notebook -U\n",
      "or\n",
      "conda install jupyter notebook -U'\n",
      "Click <a href='https://aka.ms/installJupyterForVSCode'>here</a> for more info."
     ]
    }
   ],
   "source": [
    "plt.style.use('ggplot')"
   ]
  },
  {
   "cell_type": "code",
   "execution_count": null,
   "metadata": {},
   "outputs": [
    {
     "ename": "",
     "evalue": "",
     "output_type": "error",
     "traceback": [
      "\u001b[1;31mJupyter cannot be started. Error attempting to locate jupyter: Running cells with 'Python 3.9.5 ('the_bridge_ds')' requires notebook package.\n",
      "Run the following command to install 'jupyter and notebook' into the Python environment. \n",
      "Command: 'python -m pip install jupyter notebook -U\n",
      "or\n",
      "conda install jupyter notebook -U'\n",
      "Click <a href='https://aka.ms/installJupyterForVSCode'>here</a> for more info."
     ]
    }
   ],
   "source": [
    "df_spn_day_2017.corr()[df_spn_day_2017.corr()>0.55]"
   ]
  },
  {
   "cell_type": "code",
   "execution_count": null,
   "metadata": {},
   "outputs": [
    {
     "ename": "",
     "evalue": "",
     "output_type": "error",
     "traceback": [
      "\u001b[1;31mJupyter cannot be started. Error attempting to locate jupyter: Running cells with 'Python 3.9.5 ('the_bridge_ds')' requires notebook package.\n",
      "Run the following command to install 'jupyter and notebook' into the Python environment. \n",
      "Command: 'python -m pip install jupyter notebook -U\n",
      "or\n",
      "conda install jupyter notebook -U'\n",
      "Click <a href='https://aka.ms/installJupyterForVSCode'>here</a> for more info."
     ]
    }
   ],
   "source": [
    "plt.figure(figsize=(15,10))\n",
    "sns.heatmap(df_spn_month_2016.corr(),annot=True,);\n"
   ]
  },
  {
   "cell_type": "code",
   "execution_count": null,
   "metadata": {},
   "outputs": [
    {
     "ename": "",
     "evalue": "",
     "output_type": "error",
     "traceback": [
      "\u001b[1;31mJupyter cannot be started. Error attempting to locate jupyter: Running cells with 'Python 3.9.5 ('the_bridge_ds')' requires notebook package.\n",
      "Run the following command to install 'jupyter and notebook' into the Python environment. \n",
      "Command: 'python -m pip install jupyter notebook -U\n",
      "or\n",
      "conda install jupyter notebook -U'\n",
      "Click <a href='https://aka.ms/installJupyterForVSCode'>here</a> for more info."
     ]
    }
   ],
   "source": [
    "df_spn_day.boxplot(rot='90',figsize=(15,10))"
   ]
  },
  {
   "cell_type": "code",
   "execution_count": null,
   "metadata": {},
   "outputs": [
    {
     "ename": "",
     "evalue": "",
     "output_type": "error",
     "traceback": [
      "\u001b[1;31mJupyter cannot be started. Error attempting to locate jupyter: Running cells with 'Python 3.9.5 ('the_bridge_ds')' requires notebook package.\n",
      "Run the following command to install 'jupyter and notebook' into the Python environment. \n",
      "Command: 'python -m pip install jupyter notebook -U\n",
      "or\n",
      "conda install jupyter notebook -U'\n",
      "Click <a href='https://aka.ms/installJupyterForVSCode'>here</a> for more info."
     ]
    }
   ],
   "source": [
    "df_spn_day_2015.boxplot(rot='90',figsize=(15,10))"
   ]
  },
  {
   "cell_type": "code",
   "execution_count": null,
   "metadata": {},
   "outputs": [
    {
     "ename": "",
     "evalue": "",
     "output_type": "error",
     "traceback": [
      "\u001b[1;31mJupyter cannot be started. Error attempting to locate jupyter: Running cells with 'Python 3.9.5 ('the_bridge_ds')' requires notebook package.\n",
      "Run the following command to install 'jupyter and notebook' into the Python environment. \n",
      "Command: 'python -m pip install jupyter notebook -U\n",
      "or\n",
      "conda install jupyter notebook -U'\n",
      "Click <a href='https://aka.ms/installJupyterForVSCode'>here</a> for more info."
     ]
    }
   ],
   "source": [
    "# Pie chart, where the slices will be ordered and plotted counter-clockwise:\n",
    "from tkinter import *\n",
    "x1=df_spn_day.loc[:,df_spn_day.columns.str.startswith('generation')].sum()\n",
    "labels = df_spn_day.columns\n",
    "sizes = (x1/x1.sum())*100\n",
    "explode = (0.1, 0.1,0.1,0.1,0.1,0.3,0.3,0.3,0.1,0.1,0.3,0.3,0.1,0.3)  # only \"explode\" the 2nd slice (i.e. 'Hogs')\n",
    "colors=['burlywood','tan','gray','darkgray','lemonchiffon','cadetblue','powderblue',\n",
    "'slategray','lightcoral','lightgray','seagreen',\n",
    "'khaki','lightseagreen','mediumaquamarine']\n",
    "\n",
    "fig1, ax1 = plt.subplots(figsize=(20,10))\n",
    "ax1.pie(sizes, explode=explode, autopct='%1.1f%%',\n",
    "        shadow=True, startangle=90,colors=colors,pctdistance=1.1)\n",
    "ax1.axis('equal')  # Equal aspect ratio ensures that pie is drawn as a circle.\n",
    "ax1.legend(loc='best',labels=labels)\n",
    "plt.title('Energías España 2015-2019')\n",
    "\n",
    "plt.show()"
   ]
  },
  {
   "cell_type": "code",
   "execution_count": null,
   "metadata": {},
   "outputs": [
    {
     "ename": "",
     "evalue": "",
     "output_type": "error",
     "traceback": [
      "\u001b[1;31mJupyter cannot be started. Error attempting to locate jupyter: Running cells with 'Python 3.9.5 ('the_bridge_ds')' requires notebook package.\n",
      "Run the following command to install 'jupyter and notebook' into the Python environment. \n",
      "Command: 'python -m pip install jupyter notebook -U\n",
      "or\n",
      "conda install jupyter notebook -U'\n",
      "Click <a href='https://aka.ms/installJupyterForVSCode'>here</a> for more info."
     ]
    }
   ],
   "source": [
    "sns.pairplot(df_spn_month.corr(),kind='kde',);"
   ]
  },
  {
   "cell_type": "code",
   "execution_count": null,
   "metadata": {},
   "outputs": [
    {
     "ename": "",
     "evalue": "",
     "output_type": "error",
     "traceback": [
      "\u001b[1;31mJupyter cannot be started. Error attempting to locate jupyter: Running cells with 'Python 3.9.5 ('the_bridge_ds')' requires notebook package.\n",
      "Run the following command to install 'jupyter and notebook' into the Python environment. \n",
      "Command: 'python -m pip install jupyter notebook -U\n",
      "or\n",
      "conda install jupyter notebook -U'\n",
      "Click <a href='https://aka.ms/installJupyterForVSCode'>here</a> for more info."
     ]
    }
   ],
   "source": [
    "sns.pairplot(df_spn_month.corr());"
   ]
  },
  {
   "cell_type": "code",
   "execution_count": null,
   "metadata": {},
   "outputs": [
    {
     "ename": "",
     "evalue": "",
     "output_type": "error",
     "traceback": [
      "\u001b[1;31mJupyter cannot be started. Error attempting to locate jupyter: Running cells with 'Python 3.9.5 ('the_bridge_ds')' requires notebook package.\n",
      "Run the following command to install 'jupyter and notebook' into the Python environment. \n",
      "Command: 'python -m pip install jupyter notebook -U\n",
      "or\n",
      "conda install jupyter notebook -U'\n",
      "Click <a href='https://aka.ms/installJupyterForVSCode'>here</a> for more info."
     ]
    }
   ],
   "source": [
    "df_spn_month_2018.boxplot(rot='90',figsize=(20,10))"
   ]
  },
  {
   "cell_type": "code",
   "execution_count": null,
   "metadata": {},
   "outputs": [
    {
     "ename": "",
     "evalue": "",
     "output_type": "error",
     "traceback": [
      "\u001b[1;31mJupyter cannot be started. Error attempting to locate jupyter: Running cells with 'Python 3.9.5 ('the_bridge_ds')' requires notebook package.\n",
      "Run the following command to install 'jupyter and notebook' into the Python environment. \n",
      "Command: 'python -m pip install jupyter notebook -U\n",
      "or\n",
      "conda install jupyter notebook -U'\n",
      "Click <a href='https://aka.ms/installJupyterForVSCode'>here</a> for more info."
     ]
    }
   ],
   "source": [
    "plt.style.use('ggplot')"
   ]
  },
  {
   "cell_type": "code",
   "execution_count": null,
   "metadata": {},
   "outputs": [
    {
     "ename": "",
     "evalue": "",
     "output_type": "error",
     "traceback": [
      "\u001b[1;31mJupyter cannot be started. Error attempting to locate jupyter: Running cells with 'Python 3.9.5 ('the_bridge_ds')' requires notebook package.\n",
      "Run the following command to install 'jupyter and notebook' into the Python environment. \n",
      "Command: 'python -m pip install jupyter notebook -U\n",
      "or\n",
      "conda install jupyter notebook -U'\n",
      "Click <a href='https://aka.ms/installJupyterForVSCode'>here</a> for more info."
     ]
    }
   ],
   "source": [
    "df_spn_day_rnw.boxplot(rot='90',figsize=(20,10))"
   ]
  },
  {
   "cell_type": "code",
   "execution_count": null,
   "metadata": {},
   "outputs": [
    {
     "ename": "",
     "evalue": "",
     "output_type": "error",
     "traceback": [
      "\u001b[1;31mJupyter cannot be started. Error attempting to locate jupyter: Running cells with 'Python 3.9.5 ('the_bridge_ds')' requires notebook package.\n",
      "Run the following command to install 'jupyter and notebook' into the Python environment. \n",
      "Command: 'python -m pip install jupyter notebook -U\n",
      "or\n",
      "conda install jupyter notebook -U'\n",
      "Click <a href='https://aka.ms/installJupyterForVSCode'>here</a> for more info."
     ]
    }
   ],
   "source": [
    "df_spn_day_nrnw.boxplot(rot='90',figsize=(15,10))"
   ]
  },
  {
   "cell_type": "code",
   "execution_count": null,
   "metadata": {},
   "outputs": [
    {
     "ename": "",
     "evalue": "",
     "output_type": "error",
     "traceback": [
      "\u001b[1;31mJupyter cannot be started. Error attempting to locate jupyter: Running cells with 'Python 3.9.5 ('the_bridge_ds')' requires notebook package.\n",
      "Run the following command to install 'jupyter and notebook' into the Python environment. \n",
      "Command: 'python -m pip install jupyter notebook -U\n",
      "or\n",
      "conda install jupyter notebook -U'\n",
      "Click <a href='https://aka.ms/installJupyterForVSCode'>here</a> for more info."
     ]
    }
   ],
   "source": [
    "sns.heatmap(df_spn_day_rnw.corr(),annot=True);"
   ]
  },
  {
   "cell_type": "code",
   "execution_count": null,
   "metadata": {},
   "outputs": [
    {
     "ename": "",
     "evalue": "",
     "output_type": "error",
     "traceback": [
      "\u001b[1;31mJupyter cannot be started. Error attempting to locate jupyter: Running cells with 'Python 3.9.5 ('the_bridge_ds')' requires notebook package.\n",
      "Run the following command to install 'jupyter and notebook' into the Python environment. \n",
      "Command: 'python -m pip install jupyter notebook -U\n",
      "or\n",
      "conda install jupyter notebook -U'\n",
      "Click <a href='https://aka.ms/installJupyterForVSCode'>here</a> for more info."
     ]
    }
   ],
   "source": [
    "plt.plot(df_spn_day.groupby(df_spn_day['time'].dt.year))"
   ]
  },
  {
   "cell_type": "code",
   "execution_count": null,
   "metadata": {},
   "outputs": [
    {
     "ename": "",
     "evalue": "",
     "output_type": "error",
     "traceback": [
      "\u001b[1;31mJupyter cannot be started. Error attempting to locate jupyter: Running cells with 'Python 3.9.5 ('the_bridge_ds')' requires notebook package.\n",
      "Run the following command to install 'jupyter and notebook' into the Python environment. \n",
      "Command: 'python -m pip install jupyter notebook -U\n",
      "or\n",
      "conda install jupyter notebook -U'\n",
      "Click <a href='https://aka.ms/installJupyterForVSCode'>here</a> for more info."
     ]
    }
   ],
   "source": []
  },
  {
   "cell_type": "code",
   "execution_count": null,
   "metadata": {},
   "outputs": [
    {
     "ename": "",
     "evalue": "",
     "output_type": "error",
     "traceback": [
      "\u001b[1;31mJupyter cannot be started. Error attempting to locate jupyter: Running cells with 'Python 3.9.5 ('the_bridge_ds')' requires notebook package.\n",
      "Run the following command to install 'jupyter and notebook' into the Python environment. \n",
      "Command: 'python -m pip install jupyter notebook -U\n",
      "or\n",
      "conda install jupyter notebook -U'\n",
      "Click <a href='https://aka.ms/installJupyterForVSCode'>here</a> for more info."
     ]
    }
   ],
   "source": [
    "# Pie chart, where the slices will be ordered and plotted counter-clockwise:\n",
    "from tkinter import *\n",
    "x1=df_spn_day_rnw.sum()\n",
    "labels = df_spn_day_rnw.columns\n",
    "sizes = (x1/x1.sum())*100\n",
    "explode = (0.1,)*df_spn_day_rnw.shape[1] # only \"explode\" the 2nd slice (i.e. 'Hogs')\n",
    "colorsrwn=['burlywood','cadetblue','powderblue',\n",
    "'slategray','seagreen',\n",
    "'khaki','mediumaquamarine']\n",
    "colorsnrwn=['tan','gray','darkgray','lemonchiffon','lightcoral','lightgray','seagreen',\n",
    "'lightseagreen']\n",
    "\n",
    "fig1, ax1 = plt.subplots(figsize=(20,10))\n",
    "ax1.pie(sizes, explode=explode, colors=colorsrwn,autopct='%1.1f%%',\n",
    "        shadow=True, startangle=90,pctdistance=1.1)\n",
    "ax1.axis('equal')  # Equal aspect ratio ensures that pie is drawn as a circle.\n",
    "ax1.legend(loc='best',labels=labels)\n",
    "plt.title('Energías renovables España 2015-2019')\n",
    "\n",
    "plt.show()"
   ]
  },
  {
   "cell_type": "code",
   "execution_count": null,
   "metadata": {},
   "outputs": [
    {
     "ename": "",
     "evalue": "",
     "output_type": "error",
     "traceback": [
      "\u001b[1;31mJupyter cannot be started. Error attempting to locate jupyter: Running cells with 'Python 3.9.5 ('the_bridge_ds')' requires notebook package.\n",
      "Run the following command to install 'jupyter and notebook' into the Python environment. \n",
      "Command: 'python -m pip install jupyter notebook -U\n",
      "or\n",
      "conda install jupyter notebook -U'\n",
      "Click <a href='https://aka.ms/installJupyterForVSCode'>here</a> for more info."
     ]
    }
   ],
   "source": [
    "x1=df_spn_day_nrnw.sum()\n",
    "labels = df_spn_day_nrnw.columns\n",
    "sizes = (x1/x1.sum())*100\n",
    "explode = (0.1,)*df_spn_day_nrnw.shape[1] # only \"explode\" the 2nd slice (i.e. 'Hogs')\n",
    "fig1, ax1 = plt.subplots(figsize=(20,10))\n",
    "ax1.pie(sizes, explode=explode,colors=colorsnrwn, autopct='%1.1f%%',\n",
    "        shadow=True, startangle=90,pctdistance=1.1)\n",
    "ax1.axis('equal')  # Equal aspect ratio ensures that pie is drawn as a circle.\n",
    "ax1.legend(loc='best',labels=labels)\n",
    "plt.title('Energías no renovables España 2015-2019')"
   ]
  },
  {
   "cell_type": "code",
   "execution_count": null,
   "metadata": {},
   "outputs": [
    {
     "ename": "",
     "evalue": "",
     "output_type": "error",
     "traceback": [
      "\u001b[1;31mJupyter cannot be started. Error attempting to locate jupyter: Running cells with 'Python 3.9.5 ('the_bridge_ds')' requires notebook package.\n",
      "Run the following command to install 'jupyter and notebook' into the Python environment. \n",
      "Command: 'python -m pip install jupyter notebook -U\n",
      "or\n",
      "conda install jupyter notebook -U'\n",
      "Click <a href='https://aka.ms/installJupyterForVSCode'>here</a> for more info."
     ]
    }
   ],
   "source": []
  },
  {
   "cell_type": "markdown",
   "metadata": {},
   "source": [
    "##  **1.4. Análisis estadístico**<a id='14'></a>"
   ]
  },
  {
   "cell_type": "markdown",
   "metadata": {},
   "source": [
    "#  **2. Conclusiones**<a id='2'></a>"
   ]
  },
  {
   "cell_type": "markdown",
   "metadata": {},
   "source": []
  }
 ],
 "metadata": {
  "interpreter": {
   "hash": "b2ad160f8c76d2a8caa3f2cdf61cc6d370c158f390a227c2374ae319d2175eaf"
  },
  "kernelspec": {
   "display_name": "Python 3.9.5 ('the_bridge_ds')",
   "language": "python",
   "name": "python3"
  },
  "language_info": {
   "codemirror_mode": {
    "name": "ipython",
    "version": 3
   },
   "file_extension": ".py",
   "mimetype": "text/x-python",
   "name": "python",
   "nbconvert_exporter": "python",
   "pygments_lexer": "ipython3",
   "version": "3.9.5"
  },
  "orig_nbformat": 4
 },
 "nbformat": 4,
 "nbformat_minor": 2
}
